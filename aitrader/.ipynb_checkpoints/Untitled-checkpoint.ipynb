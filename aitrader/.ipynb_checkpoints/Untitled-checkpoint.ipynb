{
 "cells": [
  {
   "cell_type": "code",
   "execution_count": null,
   "id": "ca890855",
   "metadata": {},
   "outputs": [],
   "source": [
    "from sklearn.preprocessing import MinMaxScaler\n",
    "from keras.models import Sequential\n",
    "from keras.layers import Dense,LSTM,Bidirectional\n",
    "from keras.callbacks import ModelCheckpoint\n",
    "import pickle\n",
    "import numpy as np\n",
    "from sklearn.metrics import r2_score\n",
    "\n",
    "class Timeseries:\n",
    "    def __init__ (self):\n",
    "\n",
    "        self.scaler = MinMaxScaler()\n",
    "        self.timestep = 60\n",
    "\n",
    "        self.model = Sequential()\n",
    "        self.model.add(Bidirectional(LSTM(units=40,return_sequences=True,input_shape = (self.timestep,1))))\n",
    "        self.model.add(Bidirectional(LSTM(units=20,return_sequences=True)))\n",
    "        self.model.add(Bidirectional(LSTM(units=20,return_sequences=True)))\n",
    "        self.model.add(Bidirectional(LSTM(units=20,return_sequences=False)))\n",
    "\n",
    "        self.model.add(Dense(units = 20))\n",
    "        self.model.add(Dense(units = 10))\n",
    "\n",
    "        self.model.add(Dense(units = 5))\n",
    "        self.model.add(Dense(units = 1))\n",
    "        self.model.compile(optimizer= 'adam',loss = 'mean_squared_error')\n",
    "\n",
    "        \n",
    "    def make_supervised(self,data):\n",
    "        timeseriesX = []\n",
    "        timeseriesY = []\n",
    "\n",
    "        \n",
    "        for i in range(self.timestep,len(data)):\n",
    "            timeseriesX.append(data[i-self.timestep:i,-1])\n",
    "            timeseriesY.append(data[i,-1])\n",
    "        timeseriesX = np.array(timeseriesX)\n",
    "        timeseriesY = np.array(timeseriesY)\n",
    "\n",
    "        print('Because',self.timestep,'observations per timestep was used,', timeseriesX.shape[0]-self.timestep,'trainable samples created from',timeseriesX.shape[0],'rows of the original data')\n",
    "        print('apparent percentage of data used               : ',(timeseriesX.shape[0]-self.timestep)/timeseriesX.shape[0])\n",
    "        print('apparent percentage of data lost in conversion : ',1-(timeseriesX.shape[0]-self.timestep)/timeseriesX.shape[0])\n",
    "        return timeseriesX,timeseriesY\n",
    "\n",
    "    def train_test_split(self,data):\n",
    "        train = data[0:int(len(data)*0.7)]\n",
    "        test =  data[1+ int(len(data)*0.7):]\n",
    "        return train,test\n",
    "\n",
    "    def reshape_for_LSTM(self,x,y):\n",
    "        X_supervised = np.reshape(x,(x.shape[0],x.shape[1],1))\n",
    "        Y_supervised = np.reshape(y,(-1,1))\n",
    "        return X_supervised,Y_supervised\n",
    "\n",
    "\n",
    "    def train(self,xtrain,ytrain,xvalid,yvalid):\n",
    "        self.model.fit(x = xtrain,y = ytrain,epochs =5,\n",
    "                 validation_data=(xtest,ytest),\n",
    "                 callbacks= ModelCheckpoint('forex.hdf5',save_best_only=True,mode = 'min',verbose = 1))\n",
    "ts = Timeseries()\n",
    "data = pickle.load(open('EURUSD-2021-05-23.pickle','rb'))\n",
    "data = np.reshape(data['open'].values,(-1,1))\n",
    "data = ts.scaler.fit_transform(data)\n",
    "\n",
    "\n",
    "#print(data['open'].values)\n",
    "x,y = ts.make_supervised(data)\n",
    "xtrain,xtest = ts.train_test_split(x)\n",
    "ytrain,ytest = ts.train_test_split(y)\n",
    "\n",
    "\n",
    "print(len(xtrain),len(xtest),len(ytrain),len(ytest))\n",
    "print(x)\n",
    "print(y)\n",
    "\n",
    "xtrain,ytrain = ts.reshape_for_LSTM(xtrain,ytrain)\n",
    "xtest,ytest = ts.reshape_for_LSTM(xtest,ytest)\n",
    "\n",
    "print(xtrain.shape,ytrain.shape,xtest.shape,ytest.shape)\n",
    "ts.train(xtrain,ytrain,xtest,ytest)\n",
    "\n",
    "xtrain_pred = ts.model.predict(xtrain)\n",
    "xtest_pred = ts.model.predict(xtest)\n",
    "print(r2_score(ytrain,xtrain_pred),r2_score(ytest,xtest_pred))"
   ]
  },
  {
   "cell_type": "code",
   "execution_count": null,
   "id": "b04b79ff",
   "metadata": {},
   "outputs": [],
   "source": [
    "data = pickle.load(open('EURUSD-2021-05-23.pickle','rb'))\n"
   ]
  },
  {
   "cell_type": "code",
   "execution_count": null,
   "id": "69887b52",
   "metadata": {},
   "outputs": [],
   "source": [
    "import matplotlib.pyplot as plt\n",
    "plt.figure(figsize = (20,7))\n",
    "plt.title('EURUSD predictions')\n",
    "\n",
    "plt.plot(data['open'],label = 'actual')\n",
    "plt.plot(range(60,len(xtrain_pred)+60),ts.scaler.inverse_transform(xtrain_pred),label = 'train prediction')\n",
    "plt.plot(range(len(xtrain_pred)+60,len(xtrain_pred)+60+len(xtest_pred)),ts.scaler.inverse_transform(xtest_pred),label = 'test prediction')\n",
    "plt.legend()\n",
    "#plt.xlim([6120,6180])"
   ]
  },
  {
   "cell_type": "code",
   "execution_count": null,
   "id": "1223d0c6",
   "metadata": {},
   "outputs": [],
   "source": [
    "ace = []\n",
    "ps = []\n",
    "\n",
    "\n",
    "def rolling_forecast(xtrain,ytrain,forcast_n_timeframes = 1):\n",
    "    \n",
    "    a = list(xtrain[1:])\n",
    "    a.append(np.array([ytrain[0]]))\n",
    "    a = np.array(a)\n",
    "    a = np.reshape(a,(1,60,1))\n",
    "    p = ts.model.predict(a)\n",
    "    \n",
    "    ps.append(p[0][0])\n",
    "    print(len(ps)/forcast_n_timeframes*100,'%',end = '\\r')\n",
    "    #print(len(ps)== forcast_n_timeframes,forcast_n_timeframes,len(ps))\n",
    "    if len(ps) == forcast_n_timeframes: \n",
    "        return ps\n",
    "    else:\n",
    "        p = np.reshape(p,(1,))\n",
    "        a = a[0]\n",
    "        #print(a.shape,p.shape)\n",
    "        rolling_forecast(a,p,forcast_n_timeframes = forcast_n_timeframes)\n",
    "\n",
    "    "
   ]
  },
  {
   "cell_type": "code",
   "execution_count": null,
   "id": "bb78ba9c",
   "metadata": {},
   "outputs": [],
   "source": [
    "ytest.shape"
   ]
  },
  {
   "cell_type": "code",
   "execution_count": null,
   "id": "e2bb69b8",
   "metadata": {},
   "outputs": [],
   "source": [
    "pres = rolling_forecast(xtrain[-1],ytrain[-1],forcast_n_timeframes = 2527)"
   ]
  },
  {
   "cell_type": "code",
   "execution_count": null,
   "id": "37899d60",
   "metadata": {},
   "outputs": [],
   "source": [
    "ps"
   ]
  },
  {
   "cell_type": "raw",
   "id": "06315de4",
   "metadata": {},
   "source": [
    "np.reshape(p,(1,))"
   ]
  },
  {
   "cell_type": "code",
   "execution_count": 136,
   "id": "079146bf",
   "metadata": {},
   "outputs": [
    {
     "data": {
      "text/plain": [
       "array([0.8954127], dtype=float32)"
      ]
     },
     "execution_count": 136,
     "metadata": {},
     "output_type": "execute_result"
    }
   ],
   "source": [
    "np.reshape(p,(1,))"
   ]
  },
  {
   "cell_type": "code",
   "execution_count": 133,
   "id": "5c169a87",
   "metadata": {},
   "outputs": [
    {
     "data": {
      "text/plain": [
       "array([0.90698778])"
      ]
     },
     "execution_count": 133,
     "metadata": {},
     "output_type": "execute_result"
    }
   ],
   "source": [
    "ytrain[-1]"
   ]
  },
  {
   "cell_type": "code",
   "execution_count": 89,
   "id": "bcea5ca3",
   "metadata": {},
   "outputs": [
    {
     "data": {
      "text/plain": [
       "array([[0.8954127]], dtype=float32)"
      ]
     },
     "execution_count": 89,
     "metadata": {},
     "output_type": "execute_result"
    }
   ],
   "source": [
    "b = []\n",
    "for i in range(ytest.shape[0]):\n",
    "    b.append(rolling_forecast())"
   ]
  },
  {
   "cell_type": "code",
   "execution_count": 12,
   "id": "8150c641",
   "metadata": {},
   "outputs": [
    {
     "data": {
      "text/plain": [
       "array([[0.94192668],\n",
       "       [0.94186736],\n",
       "       [0.94424012],\n",
       "       [0.92668169],\n",
       "       [0.93308815],\n",
       "       [0.92377506],\n",
       "       [0.92816467],\n",
       "       [0.92187685],\n",
       "       [0.91054692],\n",
       "       [0.90787757],\n",
       "       [0.91161466],\n",
       "       [0.91167398],\n",
       "       [0.91618223],\n",
       "       [0.90247953],\n",
       "       [0.92703761],\n",
       "       [0.90224226],\n",
       "       [0.88581089],\n",
       "       [0.89447147],\n",
       "       [0.89530193],\n",
       "       [0.91161466],\n",
       "       [0.92211413],\n",
       "       [0.92341915],\n",
       "       [0.93534227],\n",
       "       [0.93830822],\n",
       "       [0.94299442],\n",
       "       [0.94560446],\n",
       "       [0.93581682],\n",
       "       [0.94257919],\n",
       "       [0.94097758],\n",
       "       [0.93747776],\n",
       "       [0.93516431],\n",
       "       [0.93540159],\n",
       "       [0.93611342],\n",
       "       [0.93409657],\n",
       "       [0.93071539],\n",
       "       [0.92780876],\n",
       "       [0.92697829],\n",
       "       [0.92674101],\n",
       "       [0.92952901],\n",
       "       [0.92116503],\n",
       "       [0.93457112],\n",
       "       [0.94269783],\n",
       "       [0.94026575],\n",
       "       [0.9348084 ],\n",
       "       [0.92110571],\n",
       "       [0.90117452],\n",
       "       [0.90028473],\n",
       "       [0.90176771],\n",
       "       [0.89476806],\n",
       "       [0.89358168],\n",
       "       [0.8914462 ],\n",
       "       [0.89417487],\n",
       "       [0.89547989],\n",
       "       [0.9092419 ],\n",
       "       [0.8948867 ],\n",
       "       [0.90319136],\n",
       "       [0.9023609 ],\n",
       "       [0.91096215],\n",
       "       [0.90959782],\n",
       "       [0.91025033]])"
      ]
     },
     "execution_count": 12,
     "metadata": {},
     "output_type": "execute_result"
    }
   ],
   "source": [
    "xtrain[-1]"
   ]
  },
  {
   "cell_type": "code",
   "execution_count": 15,
   "id": "b15141e0",
   "metadata": {},
   "outputs": [
    {
     "data": {
      "text/plain": [
       "array([0.91025033])"
      ]
     },
     "execution_count": 15,
     "metadata": {},
     "output_type": "execute_result"
    }
   ],
   "source": [
    "ytrain[-2]"
   ]
  },
  {
   "cell_type": "code",
   "execution_count": 26,
   "id": "d77fedf4",
   "metadata": {},
   "outputs": [
    {
     "data": {
      "text/plain": [
       "array([[0.54575228, 0.24980782, 0.18022472]])"
      ]
     },
     "execution_count": 26,
     "metadata": {},
     "output_type": "execute_result"
    }
   ],
   "source": [
    "a = np.random.random([1,3])\n",
    "a"
   ]
  },
  {
   "cell_type": "code",
   "execution_count": 27,
   "id": "4161aa44",
   "metadata": {},
   "outputs": [],
   "source": [
    "a[0][1] = 3"
   ]
  },
  {
   "cell_type": "code",
   "execution_count": 56,
   "id": "594a5ccf",
   "metadata": {},
   "outputs": [
    {
     "ename": "AttributeError",
     "evalue": "'numpy.ndarray' object has no attribute 'extend'",
     "output_type": "error",
     "traceback": [
      "\u001b[1;31m---------------------------------------------------------------------------\u001b[0m",
      "\u001b[1;31mAttributeError\u001b[0m                            Traceback (most recent call last)",
      "\u001b[1;32m<ipython-input-56-d3f58957e0bb>\u001b[0m in \u001b[0;36m<module>\u001b[1;34m\u001b[0m\n\u001b[1;32m----> 1\u001b[1;33m \u001b[0ma\u001b[0m\u001b[1;33m.\u001b[0m\u001b[0mextend\u001b[0m\u001b[1;33m\u001b[0m\u001b[1;33m\u001b[0m\u001b[0m\n\u001b[0m",
      "\u001b[1;31mAttributeError\u001b[0m: 'numpy.ndarray' object has no attribute 'extend'"
     ]
    }
   ],
   "source": []
  },
  {
   "cell_type": "code",
   "execution_count": null,
   "id": "4870f2ca",
   "metadata": {},
   "outputs": [],
   "source": []
  },
  {
   "cell_type": "code",
   "execution_count": 85,
   "id": "e297f6b9",
   "metadata": {},
   "outputs": [
    {
     "data": {
      "text/plain": [
       "(array([[[0.94186736],\n",
       "         [0.94424012],\n",
       "         [0.92668169],\n",
       "         [0.93308815],\n",
       "         [0.92377506],\n",
       "         [0.92816467],\n",
       "         [0.92187685],\n",
       "         [0.91054692],\n",
       "         [0.90787757],\n",
       "         [0.91161466],\n",
       "         [0.91167398],\n",
       "         [0.91618223],\n",
       "         [0.90247953],\n",
       "         [0.92703761],\n",
       "         [0.90224226],\n",
       "         [0.88581089],\n",
       "         [0.89447147],\n",
       "         [0.89530193],\n",
       "         [0.91161466],\n",
       "         [0.92211413],\n",
       "         [0.92341915],\n",
       "         [0.93534227],\n",
       "         [0.93830822],\n",
       "         [0.94299442],\n",
       "         [0.94560446],\n",
       "         [0.93581682],\n",
       "         [0.94257919],\n",
       "         [0.94097758],\n",
       "         [0.93747776],\n",
       "         [0.93516431],\n",
       "         [0.93540159],\n",
       "         [0.93611342],\n",
       "         [0.93409657],\n",
       "         [0.93071539],\n",
       "         [0.92780876],\n",
       "         [0.92697829],\n",
       "         [0.92674101],\n",
       "         [0.92952901],\n",
       "         [0.92116503],\n",
       "         [0.93457112],\n",
       "         [0.94269783],\n",
       "         [0.94026575],\n",
       "         [0.9348084 ],\n",
       "         [0.92110571],\n",
       "         [0.90117452],\n",
       "         [0.90028473],\n",
       "         [0.90176771],\n",
       "         [0.89476806],\n",
       "         [0.89358168],\n",
       "         [0.8914462 ],\n",
       "         [0.89417487],\n",
       "         [0.89547989],\n",
       "         [0.9092419 ],\n",
       "         [0.8948867 ],\n",
       "         [0.90319136],\n",
       "         [0.9023609 ],\n",
       "         [0.91096215],\n",
       "         [0.90959782],\n",
       "         [0.91025033],\n",
       "         [0.90698778]]]),\n",
       " (1, 60, 1))"
      ]
     },
     "execution_count": 85,
     "metadata": {},
     "output_type": "execute_result"
    }
   ],
   "source": [
    "a = list(xtrain[-1][1:])\n",
    "a.append(np.array([ytrain[-1][0]]))\n",
    "a = np.array(a)\n",
    "a = np.reshape(a,(1,60,1))\n",
    "a,a.shape"
   ]
  },
  {
   "cell_type": "code",
   "execution_count": 77,
   "id": "7720de1e",
   "metadata": {},
   "outputs": [
    {
     "data": {
      "text/plain": [
       "0.9069877802823578"
      ]
     },
     "execution_count": 77,
     "metadata": {},
     "output_type": "execute_result"
    }
   ],
   "source": [
    "ytrain[-1\n",
    "      \n",
    "      ][0]"
   ]
  },
  {
   "cell_type": "code",
   "execution_count": 84,
   "id": "eb87510a",
   "metadata": {},
   "outputs": [
    {
     "data": {
      "text/plain": [
       "(1, 60, 1)"
      ]
     },
     "execution_count": 84,
     "metadata": {},
     "output_type": "execute_result"
    }
   ],
   "source": [
    "np.reshape(a,(1,60,1)).shape"
   ]
  },
  {
   "cell_type": "code",
   "execution_count": null,
   "id": "673351be",
   "metadata": {},
   "outputs": [],
   "source": []
  }
 ],
 "metadata": {
  "kernelspec": {
   "display_name": "tensorenv",
   "language": "python",
   "name": "tensorenv"
  },
  "language_info": {
   "codemirror_mode": {
    "name": "ipython",
    "version": 3
   },
   "file_extension": ".py",
   "mimetype": "text/x-python",
   "name": "python",
   "nbconvert_exporter": "python",
   "pygments_lexer": "ipython3",
   "version": "3.8.5"
  }
 },
 "nbformat": 4,
 "nbformat_minor": 5
}
